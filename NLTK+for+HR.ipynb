{
 "cells": [
  {
   "cell_type": "code",
   "execution_count": 71,
   "metadata": {},
   "outputs": [],
   "source": [
    "text='By striking down instant triple talaq, the Supreme Court drew a clear line between constitutional rights and discriminatory social practices of a religion. But that clarity must now go further - no matter what their faith, all Indians must have equal rights in the eyes of the law. TOI feels that it is time we think seriously about a Uniform Civil Code, envisaged by Article 44 of the Constitution, but left unaddressed by our governments.While we are governed by the same criminal and civil laws, in matters of marriage, inheritance, succession, divorce, and adoption, we live largely by the personal laws of our religion. Each community has its own distinctive practices, but they are all unfair to women in their different ways. While Hindu, Christian and Parsi laws have been codified and amended over time, many aspects of Muslim personal law remain unlegislated, and left to the vagaries of Islamic jurisprudence and practice. This must change - we need a fair family law code that can apply to all Indians equally.Of course, the Uniform Civil Code is easier said than done be cause nobody has agreed on what such a common code would look like. Will it harness the best bits from each personal law? Will it forge a neutral standard? Will it be made in the mould of the Hindu majority, which is a widespread fear, given the communal tension over the years and the current composition of Parliament? It is a delicate endeavour, but we should not be afraid of a conversation about it.Over the next few weeks, TOI will take you through the issues at stake. We will examine the background of our various personal laws, and the concerns voiced during the Constituent Assembly debates. We will see how those positions were borne out by later events. We will examine the legal and legislative landmarks along the way. Hindu personal law was codified into four acts in the 1950s, and amended over the years. While it is still not fully gender-just, it was certainly a radical leap for women rights. Christian personal law, already codified, has been reformed by Parliament and the courts, after much community mobilisation. Muslim personal law remains uncodified in many aspects, though the courts have steadily expanded rights for Muslim women. Over the years, many judges have also called upon legislators to enact a Uniform Civil Code, rather than relying on slow and creeping reform by the courts'\n"
   ]
  },
  {
   "cell_type": "code",
   "execution_count": 72,
   "metadata": {
    "collapsed": true
   },
   "outputs": [],
   "source": [
    "from nltk.tokenize import sent_tokenize,word_tokenize\n",
    "from nltk.corpus import stopwords\n",
    "from string import punctuation"
   ]
  },
  {
   "cell_type": "code",
   "execution_count": 73,
   "metadata": {},
   "outputs": [
    {
     "name": "stdout",
     "output_type": "stream",
     "text": [
      "['By striking down instant triple talaq, the Supreme Court drew a clear line between constitutional rights and discriminatory social practices of a religion.', 'But that clarity must now go further - no matter what their faith, all Indians must have equal rights in the eyes of the law.', 'TOI feels that it is time we think seriously about a Uniform Civil Code, envisaged by Article 44 of the Constitution, but left unaddressed by our governments.While we are governed by the same criminal and civil laws, in matters of marriage, inheritance, succession, divorce, and adoption, we live largely by the personal laws of our religion.', 'Each community has its own distinctive practices, but they are all unfair to women in their different ways.', 'While Hindu, Christian and Parsi laws have been codified and amended over time, many aspects of Muslim personal law remain unlegislated, and left to the vagaries of Islamic jurisprudence and practice.', 'This must change - we need a fair family law code that can apply to all Indians equally.Of course, the Uniform Civil Code is easier said than done be cause nobody has agreed on what such a common code would look like.', 'Will it harness the best bits from each personal law?', 'Will it forge a neutral standard?', 'Will it be made in the mould of the Hindu majority, which is a widespread fear, given the communal tension over the years and the current composition of Parliament?', 'It is a delicate endeavour, but we should not be afraid of a conversation about it.Over the next few weeks, TOI will take you through the issues at stake.', 'We will examine the background of our various personal laws, and the concerns voiced during the Constituent Assembly debates.', 'We will see how those positions were borne out by later events.', 'We will examine the legal and legislative landmarks along the way.', 'Hindu personal law was codified into four acts in the 1950s, and amended over the years.', 'While it is still not fully gender-just, it was certainly a radical leap for women rights.', 'Christian personal law, already codified, has been reformed by Parliament and the courts, after much community mobilisation.', 'Muslim personal law remains uncodified in many aspects, though the courts have steadily expanded rights for Muslim women.', 'Over the years, many judges have also called upon legislators to enact a Uniform Civil Code, rather than relying on slow and creeping reform by the courts']\n"
     ]
    }
   ],
   "source": [
    "sents=sent_tokenize(text)\n",
    "print(sents)"
   ]
  },
  {
   "cell_type": "code",
   "execution_count": 74,
   "metadata": {},
   "outputs": [],
   "source": [
    "word_sent=word_tokenize(text.lower())"
   ]
  },
  {
   "cell_type": "code",
   "execution_count": 75,
   "metadata": {},
   "outputs": [
    {
     "name": "stdout",
     "output_type": "stream",
     "text": [
      "['by', 'striking', 'down', 'instant', 'triple', 'talaq', ',', 'the', 'supreme', 'court', 'drew', 'a', 'clear', 'line', 'between', 'constitutional', 'rights', 'and', 'discriminatory', 'social', 'practices', 'of', 'a', 'religion', '.', 'but', 'that', 'clarity', 'must', 'now', 'go', 'further', '-', 'no', 'matter', 'what', 'their', 'faith', ',', 'all', 'indians', 'must', 'have', 'equal', 'rights', 'in', 'the', 'eyes', 'of', 'the', 'law', '.', 'toi', 'feels', 'that', 'it', 'is', 'time', 'we', 'think', 'seriously', 'about', 'a', 'uniform', 'civil', 'code', ',', 'envisaged', 'by', 'article', '44', 'of', 'the', 'constitution', ',', 'but', 'left', 'unaddressed', 'by', 'our', 'governments.while', 'we', 'are', 'governed', 'by', 'the', 'same', 'criminal', 'and', 'civil', 'laws', ',', 'in', 'matters', 'of', 'marriage', ',', 'inheritance', ',', 'succession', ',', 'divorce', ',', 'and', 'adoption', ',', 'we', 'live', 'largely', 'by', 'the', 'personal', 'laws', 'of', 'our', 'religion', '.', 'each', 'community', 'has', 'its', 'own', 'distinctive', 'practices', ',', 'but', 'they', 'are', 'all', 'unfair', 'to', 'women', 'in', 'their', 'different', 'ways', '.', 'while', 'hindu', ',', 'christian', 'and', 'parsi', 'laws', 'have', 'been', 'codified', 'and', 'amended', 'over', 'time', ',', 'many', 'aspects', 'of', 'muslim', 'personal', 'law', 'remain', 'unlegislated', ',', 'and', 'left', 'to', 'the', 'vagaries', 'of', 'islamic', 'jurisprudence', 'and', 'practice', '.', 'this', 'must', 'change', '-', 'we', 'need', 'a', 'fair', 'family', 'law', 'code', 'that', 'can', 'apply', 'to', 'all', 'indians', 'equally.of', 'course', ',', 'the', 'uniform', 'civil', 'code', 'is', 'easier', 'said', 'than', 'done', 'be', 'cause', 'nobody', 'has', 'agreed', 'on', 'what', 'such', 'a', 'common', 'code', 'would', 'look', 'like', '.', 'will', 'it', 'harness', 'the', 'best', 'bits', 'from', 'each', 'personal', 'law', '?', 'will', 'it', 'forge', 'a', 'neutral', 'standard', '?', 'will', 'it', 'be', 'made', 'in', 'the', 'mould', 'of', 'the', 'hindu', 'majority', ',', 'which', 'is', 'a', 'widespread', 'fear', ',', 'given', 'the', 'communal', 'tension', 'over', 'the', 'years', 'and', 'the', 'current', 'composition', 'of', 'parliament', '?', 'it', 'is', 'a', 'delicate', 'endeavour', ',', 'but', 'we', 'should', 'not', 'be', 'afraid', 'of', 'a', 'conversation', 'about', 'it.over', 'the', 'next', 'few', 'weeks', ',', 'toi', 'will', 'take', 'you', 'through', 'the', 'issues', 'at', 'stake', '.', 'we', 'will', 'examine', 'the', 'background', 'of', 'our', 'various', 'personal', 'laws', ',', 'and', 'the', 'concerns', 'voiced', 'during', 'the', 'constituent', 'assembly', 'debates', '.', 'we', 'will', 'see', 'how', 'those', 'positions', 'were', 'borne', 'out', 'by', 'later', 'events', '.', 'we', 'will', 'examine', 'the', 'legal', 'and', 'legislative', 'landmarks', 'along', 'the', 'way', '.', 'hindu', 'personal', 'law', 'was', 'codified', 'into', 'four', 'acts', 'in', 'the', '1950s', ',', 'and', 'amended', 'over', 'the', 'years', '.', 'while', 'it', 'is', 'still', 'not', 'fully', 'gender-just', ',', 'it', 'was', 'certainly', 'a', 'radical', 'leap', 'for', 'women', 'rights', '.', 'christian', 'personal', 'law', ',', 'already', 'codified', ',', 'has', 'been', 'reformed', 'by', 'parliament', 'and', 'the', 'courts', ',', 'after', 'much', 'community', 'mobilisation', '.', 'muslim', 'personal', 'law', 'remains', 'uncodified', 'in', 'many', 'aspects', ',', 'though', 'the', 'courts', 'have', 'steadily', 'expanded', 'rights', 'for', 'muslim', 'women', '.', 'over', 'the', 'years', ',', 'many', 'judges', 'have', 'also', 'called', 'upon', 'legislators', 'to', 'enact', 'a', 'uniform', 'civil', 'code', ',', 'rather', 'than', 'relying', 'on', 'slow', 'and', 'creeping', 'reform', 'by', 'the', 'courts']\n"
     ]
    }
   ],
   "source": [
    "print(word_sent)"
   ]
  },
  {
   "cell_type": "code",
   "execution_count": 76,
   "metadata": {
    "collapsed": true
   },
   "outputs": [],
   "source": [
    "_stopwords=set(stopwords.words('english')+ list(punctuation))"
   ]
  },
  {
   "cell_type": "code",
   "execution_count": 77,
   "metadata": {},
   "outputs": [
    {
     "name": "stdout",
     "output_type": "stream",
     "text": [
      "{'hasn', 'haven', 'these', 'above', 'wouldn', 'after', 'we', 'have', 'again', 'which', 'a', 'below', 'is', 'of', 'up', 'needn', 'from', ']', 'myself', 'were', 'ma', '\"', 'mightn', 'if', 'but', 'what', 'both', 'down', 'other', 'ours', 'having', 'the', '!', 'it', 'out', 'you', 'all', 'weren', ':', '=', 'where', 'm', 'o', 'further', 'those', 't', 'while', 'me', 'do', 'very', 'on', '[', 'why', 'doing', 'whom', 'when', 'your', 'my', 'once', 'himself', 'couldn', 'just', 'yourself', 'same', 'nor', 'or', '-', 'did', 'hers', '&', 'mustn', 'can', 'into', 'off', 's', 'no', '+', 'with', 'her', 'under', 'how', 've', 'through', 'i', '{', 'only', '*', 'him', 'some', 'so', '`', 'between', '_', 'about', 'didn', 'because', 'for', '#', 'that', 'don', 'theirs', 'he', 'has', 'before', 'be', 'being', 'ourselves', '<', 'themselves', '?', 'to', 'itself', 'shan', 'its', 'his', 'our', '}', 'there', 'they', 'own', '@', 'not', 'who', '^', 'will', 'hadn', 'y', 'their', 'than', 'd', 'more', '/', ';', '%', 'until', 'most', 'such', 'yours', 'shouldn', 'now', 'by', 'ain', 'during', 'at', 'this', 'aren', '|', 'herself', 'she', 'them', 'here', '\\\\', 'does', 'each', '>', 'any', 'are', 'am', 'been', 'wasn', 'as', 'few', 'll', \"'\", 'yourselves', 'had', 'doesn', '$', ')', 'and', 'over', 'isn', 'an', 'in', 're', 'was', '.', 'too', 'won', ',', 'then', '~', '(', 'against', 'should'}\n"
     ]
    }
   ],
   "source": [
    "print(_stopwords)"
   ]
  },
  {
   "cell_type": "code",
   "execution_count": 78,
   "metadata": {
    "collapsed": true
   },
   "outputs": [],
   "source": [
    "word_sent=[word for word in word_sent if word not in _stopwords]"
   ]
  },
  {
   "cell_type": "code",
   "execution_count": 79,
   "metadata": {},
   "outputs": [
    {
     "name": "stdout",
     "output_type": "stream",
     "text": [
      "['striking', 'instant', 'triple', 'talaq', 'supreme', 'court', 'drew', 'clear', 'line', 'constitutional', 'rights', 'discriminatory', 'social', 'practices', 'religion', 'clarity', 'must', 'go', 'matter', 'faith', 'indians', 'must', 'equal', 'rights', 'eyes', 'law', 'toi', 'feels', 'time', 'think', 'seriously', 'uniform', 'civil', 'code', 'envisaged', 'article', '44', 'constitution', 'left', 'unaddressed', 'governments.while', 'governed', 'criminal', 'civil', 'laws', 'matters', 'marriage', 'inheritance', 'succession', 'divorce', 'adoption', 'live', 'largely', 'personal', 'laws', 'religion', 'community', 'distinctive', 'practices', 'unfair', 'women', 'different', 'ways', 'hindu', 'christian', 'parsi', 'laws', 'codified', 'amended', 'time', 'many', 'aspects', 'muslim', 'personal', 'law', 'remain', 'unlegislated', 'left', 'vagaries', 'islamic', 'jurisprudence', 'practice', 'must', 'change', 'need', 'fair', 'family', 'law', 'code', 'apply', 'indians', 'equally.of', 'course', 'uniform', 'civil', 'code', 'easier', 'said', 'done', 'cause', 'nobody', 'agreed', 'common', 'code', 'would', 'look', 'like', 'harness', 'best', 'bits', 'personal', 'law', 'forge', 'neutral', 'standard', 'made', 'mould', 'hindu', 'majority', 'widespread', 'fear', 'given', 'communal', 'tension', 'years', 'current', 'composition', 'parliament', 'delicate', 'endeavour', 'afraid', 'conversation', 'it.over', 'next', 'weeks', 'toi', 'take', 'issues', 'stake', 'examine', 'background', 'various', 'personal', 'laws', 'concerns', 'voiced', 'constituent', 'assembly', 'debates', 'see', 'positions', 'borne', 'later', 'events', 'examine', 'legal', 'legislative', 'landmarks', 'along', 'way', 'hindu', 'personal', 'law', 'codified', 'four', 'acts', '1950s', 'amended', 'years', 'still', 'fully', 'gender-just', 'certainly', 'radical', 'leap', 'women', 'rights', 'christian', 'personal', 'law', 'already', 'codified', 'reformed', 'parliament', 'courts', 'much', 'community', 'mobilisation', 'muslim', 'personal', 'law', 'remains', 'uncodified', 'many', 'aspects', 'though', 'courts', 'steadily', 'expanded', 'rights', 'muslim', 'women', 'years', 'many', 'judges', 'also', 'called', 'upon', 'legislators', 'enact', 'uniform', 'civil', 'code', 'rather', 'relying', 'slow', 'creeping', 'reform', 'courts']\n"
     ]
    }
   ],
   "source": [
    "print(word_sent)"
   ]
  },
  {
   "cell_type": "code",
   "execution_count": 80,
   "metadata": {},
   "outputs": [
    {
     "name": "stdout",
     "output_type": "stream",
     "text": [
      "<FreqDist with 164 samples and 219 outcomes>\n"
     ]
    }
   ],
   "source": [
    "from nltk.probability import FreqDist\n",
    "freq = FreqDist(word_sent)\n",
    "print(freq)"
   ]
  },
  {
   "cell_type": "code",
   "execution_count": 81,
   "metadata": {
    "collapsed": true
   },
   "outputs": [],
   "source": [
    "from heapq import nlargest"
   ]
  },
  {
   "cell_type": "code",
   "execution_count": 82,
   "metadata": {},
   "outputs": [
    {
     "name": "stdout",
     "output_type": "stream",
     "text": [
      "['law', 'personal', 'code', 'laws', 'rights', 'civil', 'many', 'must', 'codified', 'uniform', 'women', 'hindu', 'muslim', 'courts', 'years', 'parliament', 'examine', 'left', 'practices', 'aspects', 'community', 'indians', 'toi', 'amended', 'christian', 'religion', 'time', 'unfair', 'relying', 'divorce']\n"
     ]
    }
   ],
   "source": [
    "print(nlargest(30,freq,key=freq.get))\n",
    "\n",
    "\n"
   ]
  },
  {
   "cell_type": "code",
   "execution_count": 83,
   "metadata": {},
   "outputs": [
    {
     "data": {
      "text/plain": [
       "defaultdict(int,\n",
       "            {0: 20,\n",
       "             1: 25,\n",
       "             2: 58,\n",
       "             3: 11,\n",
       "             4: 47,\n",
       "             5: 51,\n",
       "             6: 17,\n",
       "             7: 3,\n",
       "             8: 18,\n",
       "             9: 12,\n",
       "             10: 20,\n",
       "             11: 5,\n",
       "             12: 7,\n",
       "             13: 28,\n",
       "             14: 13,\n",
       "             15: 30,\n",
       "             16: 40,\n",
       "             17: 32})"
      ]
     },
     "execution_count": 83,
     "metadata": {},
     "output_type": "execute_result"
    }
   ],
   "source": [
    "from collections import defaultdict\n",
    "ranking = defaultdict(int)\n",
    "\n",
    "\n",
    "for i,sent in enumerate(sents):\n",
    "    for w in word_tokenize(sent.lower()):\n",
    "        if w in freq:\n",
    "            ranking[i] += freq[w]\n",
    "ranking            "
   ]
  },
  {
   "cell_type": "code",
   "execution_count": 84,
   "metadata": {},
   "outputs": [
    {
     "data": {
      "text/plain": [
       "[2, 5]"
      ]
     },
     "execution_count": 84,
     "metadata": {},
     "output_type": "execute_result"
    }
   ],
   "source": [
    "sents_idx = nlargest(2,ranking,key=ranking.get)\n",
    "sents_idx"
   ]
  },
  {
   "cell_type": "code",
   "execution_count": 90,
   "metadata": {},
   "outputs": [
    {
     "data": {
      "text/plain": [
       "'TOI feels that it is time we think seriously about a Uniform Civil Code, envisaged by Article 44 of the Constitution, but left unaddressed by our governments.While we are governed by the same criminal and civil laws, in matters of marriage, inheritance, succession, divorce, and adoption, we live largely by the personal laws of our religion.'"
      ]
     },
     "execution_count": 90,
     "metadata": {},
     "output_type": "execute_result"
    }
   ],
   "source": [
    "sents[2]"
   ]
  },
  {
   "cell_type": "code",
   "execution_count": 91,
   "metadata": {},
   "outputs": [
    {
     "data": {
      "text/plain": [
       "'This must change - we need a fair family law code that can apply to all Indians equally.Of course, the Uniform Civil Code is easier said than done be cause nobody has agreed on what such a common code would look like.'"
      ]
     },
     "execution_count": 91,
     "metadata": {},
     "output_type": "execute_result"
    }
   ],
   "source": [
    "sents[5]"
   ]
  },
  {
   "cell_type": "code",
   "execution_count": null,
   "metadata": {
    "collapsed": true
   },
   "outputs": [],
   "source": []
  }
 ],
 "metadata": {
  "kernelspec": {
   "display_name": "Python 3",
   "language": "python",
   "name": "python3"
  },
  "language_info": {
   "codemirror_mode": {
    "name": "ipython",
    "version": 3
   },
   "file_extension": ".py",
   "mimetype": "text/x-python",
   "name": "python",
   "nbconvert_exporter": "python",
   "pygments_lexer": "ipython3",
   "version": "3.5.3"
  }
 },
 "nbformat": 4,
 "nbformat_minor": 2
}
